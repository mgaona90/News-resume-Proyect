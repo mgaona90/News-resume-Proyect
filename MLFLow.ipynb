############################## ML Flow traking
- abir terminal anaconda python- ubicarme en el la ubicación donde tengo la carpeta "mlruns" (sino me la crea -cuando hago un experimento)- defino los parametros, métricas, modelos, comentarios que quiero que me guarde con el script:
# https://www.youtube.com/watch?v=EbIEk0DB-H8
import mlflow
import mlflow.sklearn
import mlflow.pytorch
from sklearn.linear_model import LinearRegression
import numpy as np

if __name__ == "__main__":
    # prepare training data
    X = np.array([[1, 1], [1, 2], [2, 2], [2, 3]])
    y = np.dot(X, np.array([1, 2])) + 3

    model = LinearRegression()
    model.fit(X, y)
    mlflow.set_experiment(experiment_name="experiment2")
    mlflow.log_param("dataset_usado", "dataset1")
    mlflow.log_param("parametro1", "param")
    mlflow.log_metric( "metrica1",0.3)
    # mlflow.log_figure(confusion_matrix)
    # mlflow.pytorch.log_model( "param",0.3)
    mlflow.sklearn.log_model(model,'modelo_entrenado')

hay una interfaz corriendo "MLflow ui" estando ubicado en la ruta de la carpeta "mlruns" en python anaconda donde se puede visualizar todo. Este caso es todo on-premise, guardando todo en una carpeta.y se pueden ver los experimentos realizados, donde se guardaran todos los parametros, métricas, modelos de cada experimento


################################ ML FLOW MODEL
