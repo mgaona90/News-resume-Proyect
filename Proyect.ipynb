pip install yagmail

import yagmail

receiver = "matiasogaona@gmail.com"
body = "Hello there from Yagmail"
filename = "document.pdf"

yag = yagmail.SMTP("matogaona@gmail.com")
yag.send(
    to=receiver,
    subject="Yagmail test with attachment",
    contents=body, 
    #attachments=filename,
)
